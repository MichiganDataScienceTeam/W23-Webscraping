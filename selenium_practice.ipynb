{
 "cells": [
  {
   "cell_type": "code",
   "execution_count": 1,
   "metadata": {},
   "outputs": [],
   "source": [
    "import time\n",
    "from selenium import webdriver\n",
    "from selenium.webdriver.chrome.service import Service\n",
    "from selenium.webdriver.common.by import By\n",
    "from selenium.webdriver.support.wait import WebDriverWait\n",
    "from selenium.webdriver.chrome.options import Options"
   ]
  },
  {
   "cell_type": "code",
   "execution_count": 2,
   "metadata": {},
   "outputs": [],
   "source": [
    "chrome_options = Options()\n",
    "chrome_options.add_experimental_option(\"detach\", True) # this keeps the window open post execution/errors/ changing frames (explained later)\n",
    "\n",
    "prefs = {\"download.default_directory\": '/Users/justinpaul/Downloads',  # note need to change this\n",
    "         \"directory_upgrade\": True}\n",
    "chrome_options.add_experimental_option(\"prefs\", prefs)"
   ]
  },
  {
   "cell_type": "code",
   "execution_count": 3,
   "metadata": {},
   "outputs": [
    {
     "name": "stderr",
     "output_type": "stream",
     "text": [
      "/var/folders/md/xfvst6gj5bg055t0jwj54sy00000gn/T/ipykernel_58962/1604257313.py:2: DeprecationWarning: executable_path has been deprecated, please pass in a Service object\n",
      "  driver = webdriver.Chrome('/usr/local/bin/chromedriver', options=chrome_options)\n"
     ]
    }
   ],
   "source": [
    "# driver = webdriver.Chrome('/usr/local/bin/chromedriver')\n",
    "driver = webdriver.Chrome('/usr/local/bin/chromedriver', options=chrome_options)\n",
    "driver.get('https://www.mdst.club/agenda')"
   ]
  },
  {
   "cell_type": "code",
   "execution_count": 5,
   "metadata": {},
   "outputs": [
    {
     "name": "stdout",
     "output_type": "stream",
     "text": [
      "title of site: Michigan Data Science Team - Agenda\n",
      "initial cookies: [{'domain': 'www.mdst.club', 'httpOnly': False, 'name': 'MDSTcookie', 'path': '/', 'sameSite': 'Lax', 'secure': True, 'value': 'yum'}]\n",
      "cookies: [{'domain': 'www.mdst.club', 'httpOnly': False, 'name': 'MDSTcookie', 'path': '/', 'sameSite': 'Lax', 'secure': True, 'value': 'yum'}]\n"
     ]
    }
   ],
   "source": [
    "print(f'title of site: {driver.title}')\n",
    "\n",
    "# you can also access and set cookies\n",
    "print(f'initial cookies: {driver.get_cookies()}')\n",
    "cookie = {'name' : 'MDSTcookie', 'value' : 'yum'}\n",
    "driver.add_cookie(cookie)\n",
    "print(f'cookies: {driver.get_cookies()}')"
   ]
  },
  {
   "cell_type": "code",
   "execution_count": 6,
   "metadata": {},
   "outputs": [
    {
     "name": "stdout",
     "output_type": "stream",
     "text": [
      "AGENDA\n",
      "REGULAR MEETINGS - WINTER 2023\n",
      "Project Meetings\n",
      "Thursdays @ 6 - 7PM EST in Angell G115\n",
      "Project Work Sessions\n",
      "Sundays @ 12 - 3PM EST in BSB 1060\n"
     ]
    }
   ],
   "source": [
    "for x in driver.find_elements(By.CLASS_NAME, 'C9DxTc '):\n",
    "    print(x.text)"
   ]
  },
  {
   "cell_type": "code",
   "execution_count": 7,
   "metadata": {},
   "outputs": [
    {
     "name": "stdout",
     "output_type": "stream",
     "text": [
      "AGENDA\n",
      "REGULAR MEETINGS - WINTER 2023\n",
      "Project Meetings\n",
      "Thursdays @ 6 - 7PM EST in Angell G115\n",
      "Project Work Sessions\n",
      "Sundays @ 12 - 3PM EST in BSB 1060\n"
     ]
    }
   ],
   "source": [
    "for x in driver.find_elements(By.XPATH, '//span[@class=\"C9DxTc \"]'):\n",
    "    print(x.text)"
   ]
  },
  {
   "cell_type": "code",
   "execution_count": 8,
   "metadata": {},
   "outputs": [],
   "source": [
    "try:\n",
    "    driver.find_elements(By.XPATH, '//img[@id=\"navForward1\"]')\n",
    "\n",
    "except Exception as e:\n",
    "    print(e) \n",
    "    print(\"There is a google calendar iframe embedded in the website, so to interact with it, we need to change our driver from the site to the iframe.\")"
   ]
  },
  {
   "cell_type": "code",
   "execution_count": 9,
   "metadata": {},
   "outputs": [],
   "source": [
    "calendar = driver.find_element(By.XPATH, \"//iframe[@jsname='L5Fo6c']\")\n",
    "\n",
    "# to switch specifically you can use\n",
    "driver.switch_to.frame(calendar)"
   ]
  },
  {
   "cell_type": "code",
   "execution_count": 10,
   "metadata": {},
   "outputs": [],
   "source": [
    "driver.find_element(By.XPATH, '//img[@id=\"navForward1\"]').click()"
   ]
  },
  {
   "cell_type": "code",
   "execution_count": 11,
   "metadata": {},
   "outputs": [],
   "source": [
    "driver.find_elements(By.XPATH, '//*[@class=\"te-s\"]')[-1].click()"
   ]
  },
  {
   "cell_type": "code",
   "execution_count": 12,
   "metadata": {},
   "outputs": [
    {
     "name": "stdout",
     "output_type": "stream",
     "text": [
      "Final Expo\n",
      "Sun, April 23, 11am – 2pm\n"
     ]
    }
   ],
   "source": [
    "expo = driver.find_element(By.XPATH, '//div[@class=\"details\"]')\n",
    "\n",
    "# sample print out of card\n",
    "print(expo.find_element(By.XPATH, '//span[@class=\"title\"]').text)\n",
    "print(expo.find_element(By.XPATH, '//span[@class=\"event-when\"]').text)"
   ]
  },
  {
   "cell_type": "code",
   "execution_count": 13,
   "metadata": {},
   "outputs": [
    {
     "name": "stdout",
     "output_type": "stream",
     "text": [
      "more details»\thttps://www.google.com/calendar/event?eid=NW9hcTNva2lsZ2FtNWs0YWFwYTNtaGE1NmIgdW1pY2guZWR1X2R1N2d0cnNpN2hsNTU2bGsxOTlwdWYxbzlzQGc&ctz=GMT-05:00\n",
      "copy to my calendar»\thttps://calendar.google.com/calendar/r/eventedit/copy/NW9hcTNva2lsZ2FtNWs0YWFwYTNtaGE1NmIgdW1pY2guZWR1X2R1N2d0cnNpN2hsNTU2bGsxOTlwdWYxbzlzQGc\n"
     ]
    }
   ],
   "source": [
    "links = expo.find_element(By.XPATH, '//span[@class=\"links\"]')\n",
    "\n",
    "for a_tag in links.find_elements(By.XPATH, '//a'):\n",
    "    print(a_tag.text, a_tag.get_attribute('href'), sep='\\t')\n"
   ]
  },
  {
   "cell_type": "code",
   "execution_count": 14,
   "metadata": {},
   "outputs": [
    {
     "data": {
      "text/plain": [
       "True"
      ]
     },
     "execution_count": 14,
     "metadata": {},
     "output_type": "execute_result"
    }
   ],
   "source": [
    "# Screenshotting!\n",
    "driver.save_screenshot('selenium_full_screen.png')  # full screen\n",
    "expo.screenshot('selenium_expo_card.png')  # individual element\n"
   ]
  },
  {
   "cell_type": "code",
   "execution_count": 16,
   "metadata": {},
   "outputs": [],
   "source": [
    "driver.switch_to.default_content()"
   ]
  },
  {
   "cell_type": "code",
   "execution_count": 17,
   "metadata": {},
   "outputs": [],
   "source": [
    "driver.close() "
   ]
  }
 ],
 "metadata": {
  "kernelspec": {
   "display_name": "test_venv",
   "language": "python",
   "name": "python3"
  },
  "language_info": {
   "codemirror_mode": {
    "name": "ipython",
    "version": 3
   },
   "file_extension": ".py",
   "mimetype": "text/x-python",
   "name": "python",
   "nbconvert_exporter": "python",
   "pygments_lexer": "ipython3",
   "version": "3.8.13"
  },
  "orig_nbformat": 4
 },
 "nbformat": 4,
 "nbformat_minor": 2
}
