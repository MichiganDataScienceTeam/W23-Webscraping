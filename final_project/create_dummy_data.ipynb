{
 "cells": [
  {
   "cell_type": "code",
   "execution_count": 7,
   "metadata": {},
   "outputs": [],
   "source": [
    "import pandas as pd\n",
    "import random"
   ]
  },
  {
   "cell_type": "code",
   "execution_count": 5,
   "metadata": {},
   "outputs": [],
   "source": [
    "df = pd.read_csv('data/ai_lab.csv', index_col=False, header=0)"
   ]
  },
  {
   "cell_type": "code",
   "execution_count": 13,
   "metadata": {},
   "outputs": [],
   "source": [
    "df['clarity'] = df.apply(lambda _: random.randint(0, 100), axis=1)\n",
    "df['preparedness'] = df.apply(lambda _: random.randint(0, 100), axis=1)\n",
    "df['respect'] = df.apply(lambda _: random.randint(0, 100), axis=1)\n",
    "df['research'] = df.apply(lambda _: bool(random.randint(0, 1)), axis=1)"
   ]
  },
  {
   "cell_type": "code",
   "execution_count": 15,
   "metadata": {},
   "outputs": [
    {
     "data": {
      "text/html": [
       "<div>\n",
       "<style scoped>\n",
       "    .dataframe tbody tr th:only-of-type {\n",
       "        vertical-align: middle;\n",
       "    }\n",
       "\n",
       "    .dataframe tbody tr th {\n",
       "        vertical-align: top;\n",
       "    }\n",
       "\n",
       "    .dataframe thead th {\n",
       "        text-align: right;\n",
       "    }\n",
       "</style>\n",
       "<table border=\"1\" class=\"dataframe\">\n",
       "  <thead>\n",
       "    <tr style=\"text-align: right;\">\n",
       "      <th></th>\n",
       "      <th>name</th>\n",
       "      <th>title</th>\n",
       "      <th>email</th>\n",
       "      <th>interests</th>\n",
       "      <th>website</th>\n",
       "      <th>phone</th>\n",
       "      <th>office</th>\n",
       "      <th>clarity</th>\n",
       "      <th>preparedness</th>\n",
       "      <th>respect</th>\n",
       "      <th>research</th>\n",
       "    </tr>\n",
       "  </thead>\n",
       "  <tbody>\n",
       "    <tr>\n",
       "      <th>0</th>\n",
       "      <td>Banovic, Nikola</td>\n",
       "      <td>Assistant Professor, Electrical Engineering an...</td>\n",
       "      <td>nbanovic@umich.edu</td>\n",
       "      <td>['Computational Interaction', 'Human-centered ...</td>\n",
       "      <td>http://www.nikolabanovic.net/</td>\n",
       "      <td>734-764-4289</td>\n",
       "      <td>2630 Beyster Bldg.</td>\n",
       "      <td>16</td>\n",
       "      <td>75</td>\n",
       "      <td>51</td>\n",
       "      <td>True</td>\n",
       "    </tr>\n",
       "    <tr>\n",
       "      <th>1</th>\n",
       "      <td>Baveja, Satinder Singh</td>\n",
       "      <td>Toyota Professor of Artificial Intelligence</td>\n",
       "      <td>baveja@umich.edu</td>\n",
       "      <td>['Reinforcement Learning', 'Machine Learning',...</td>\n",
       "      <td>http://web.eecs.umich.edu/~baveja</td>\n",
       "      <td>(734) 936-2831</td>\n",
       "      <td>3765 Beyster Bldg.</td>\n",
       "      <td>59</td>\n",
       "      <td>5</td>\n",
       "      <td>55</td>\n",
       "      <td>False</td>\n",
       "    </tr>\n",
       "    <tr>\n",
       "      <th>2</th>\n",
       "      <td>Burdick, Laura</td>\n",
       "      <td>Lecturer III, Electrical Engineering &amp; Compute...</td>\n",
       "      <td>lburdick@umich.edu</td>\n",
       "      <td>['Natural language processing', 'data science'...</td>\n",
       "      <td>NaN</td>\n",
       "      <td>(734) 936-1312</td>\n",
       "      <td>3824 Beyster</td>\n",
       "      <td>64</td>\n",
       "      <td>61</td>\n",
       "      <td>63</td>\n",
       "      <td>True</td>\n",
       "    </tr>\n",
       "    <tr>\n",
       "      <th>3</th>\n",
       "      <td>Chai, Joyce</td>\n",
       "      <td>Professor, Electrical Engineering and Computer...</td>\n",
       "      <td>chaijy@umich.edu</td>\n",
       "      <td>['Natural language processing', 'language grou...</td>\n",
       "      <td>https://web.eecs.umich.edu/~chaijy/</td>\n",
       "      <td>734-764-3308</td>\n",
       "      <td>3632 Beyster</td>\n",
       "      <td>91</td>\n",
       "      <td>34</td>\n",
       "      <td>38</td>\n",
       "      <td>False</td>\n",
       "    </tr>\n",
       "    <tr>\n",
       "      <th>4</th>\n",
       "      <td>Chakraborty, Mithun</td>\n",
       "      <td>Assistant Research Scientist, Electrical Engin...</td>\n",
       "      <td>dcsmc@umich.edu</td>\n",
       "      <td>['Multi-Agent Systems', 'Computational Economi...</td>\n",
       "      <td>https://sites.google.com/umich.edu/mithunchakra/</td>\n",
       "      <td>NaN</td>\n",
       "      <td>2709 Beyster Bldg.</td>\n",
       "      <td>11</td>\n",
       "      <td>3</td>\n",
       "      <td>94</td>\n",
       "      <td>True</td>\n",
       "    </tr>\n",
       "  </tbody>\n",
       "</table>\n",
       "</div>"
      ],
      "text/plain": [
       "                     name                                              title  \\\n",
       "0         Banovic, Nikola  Assistant Professor, Electrical Engineering an...   \n",
       "1  Baveja, Satinder Singh        Toyota Professor of Artificial Intelligence   \n",
       "2          Burdick, Laura  Lecturer III, Electrical Engineering & Compute...   \n",
       "3             Chai, Joyce  Professor, Electrical Engineering and Computer...   \n",
       "4     Chakraborty, Mithun  Assistant Research Scientist, Electrical Engin...   \n",
       "\n",
       "                email                                          interests  \\\n",
       "0  nbanovic@umich.edu  ['Computational Interaction', 'Human-centered ...   \n",
       "1    baveja@umich.edu  ['Reinforcement Learning', 'Machine Learning',...   \n",
       "2  lburdick@umich.edu  ['Natural language processing', 'data science'...   \n",
       "3    chaijy@umich.edu  ['Natural language processing', 'language grou...   \n",
       "4     dcsmc@umich.edu  ['Multi-Agent Systems', 'Computational Economi...   \n",
       "\n",
       "                                            website           phone  \\\n",
       "0                     http://www.nikolabanovic.net/    734-764-4289   \n",
       "1                 http://web.eecs.umich.edu/~baveja  (734) 936-2831   \n",
       "2                                               NaN  (734) 936-1312   \n",
       "3               https://web.eecs.umich.edu/~chaijy/    734-764-3308   \n",
       "4  https://sites.google.com/umich.edu/mithunchakra/             NaN   \n",
       "\n",
       "               office  clarity  preparedness  respect  research  \n",
       "0  2630 Beyster Bldg.       16            75       51      True  \n",
       "1  3765 Beyster Bldg.       59             5       55     False  \n",
       "2        3824 Beyster       64            61       63      True  \n",
       "3        3632 Beyster       91            34       38     False  \n",
       "4  2709 Beyster Bldg.       11             3       94      True  "
      ]
     },
     "execution_count": 15,
     "metadata": {},
     "output_type": "execute_result"
    }
   ],
   "source": [
    "df.head()"
   ]
  },
  {
   "cell_type": "code",
   "execution_count": 16,
   "metadata": {},
   "outputs": [],
   "source": [
    "df.to_csv('data/dummy_ai.csv', index=False)"
   ]
  },
  {
   "cell_type": "code",
   "execution_count": null,
   "metadata": {},
   "outputs": [],
   "source": []
  }
 ],
 "metadata": {
  "kernelspec": {
   "display_name": "test_venv",
   "language": "python",
   "name": "python3"
  },
  "language_info": {
   "codemirror_mode": {
    "name": "ipython",
    "version": 3
   },
   "file_extension": ".py",
   "mimetype": "text/x-python",
   "name": "python",
   "nbconvert_exporter": "python",
   "pygments_lexer": "ipython3",
   "version": "3.8.13"
  },
  "orig_nbformat": 4
 },
 "nbformat": 4,
 "nbformat_minor": 2
}
