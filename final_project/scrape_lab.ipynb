{
 "cells": [
  {
   "cell_type": "code",
   "execution_count": 1,
   "metadata": {},
   "outputs": [],
   "source": [
    "import os, sys\n",
    "\n",
    "import time\n",
    "from selenium import webdriver\n",
    "from selenium.webdriver.chrome.service import Service\n",
    "from selenium.webdriver.common.by import By\n",
    "from selenium.webdriver.support.wait import WebDriverWait\n",
    "from selenium.webdriver.chrome.options import Options\n",
    "\n",
    "import pandas as pd"
   ]
  },
  {
   "cell_type": "code",
   "execution_count": 2,
   "metadata": {},
   "outputs": [],
   "source": [
    "# os.mkdir('data')"
   ]
  },
  {
   "cell_type": "code",
   "execution_count": 3,
   "metadata": {},
   "outputs": [],
   "source": [
    "chrome_options = Options()\n",
    "chrome_options.add_experimental_option(\"detach\", True) # this keeps the window open post execution/errors/ changing frames (explained later)\n",
    "\n",
    "prefs = {\"download.default_directory\": '/Users/justinpaul/Downloads',  # note need to change this\n",
    "         \"directory_upgrade\": True}\n",
    "chrome_options.add_experimental_option(\"prefs\", prefs)"
   ]
  },
  {
   "cell_type": "code",
   "execution_count": 4,
   "metadata": {},
   "outputs": [],
   "source": [
    "file = 'https://ai.engin.umich.edu/people/'\n"
   ]
  },
  {
   "cell_type": "code",
   "execution_count": 5,
   "metadata": {},
   "outputs": [
    {
     "name": "stderr",
     "output_type": "stream",
     "text": [
      "/var/folders/md/xfvst6gj5bg055t0jwj54sy00000gn/T/ipykernel_35570/3316057419.py:2: DeprecationWarning: executable_path has been deprecated, please pass in a Service object\n",
      "  driver = webdriver.Chrome('/usr/local/bin/chromedriver', options=chrome_options)\n"
     ]
    }
   ],
   "source": [
    "# driver = webdriver.Chrome('/usr/local/bin/chromedriver')\n",
    "driver = webdriver.Chrome('/usr/local/bin/chromedriver', options=chrome_options)\n",
    "driver.get(file)"
   ]
  },
  {
   "cell_type": "code",
   "execution_count": 6,
   "metadata": {},
   "outputs": [
    {
     "name": "stdout",
     "output_type": "stream",
     "text": [
      "CPU times: user 350 ms, sys: 31.8 ms, total: 381 ms\n",
      "Wall time: 4.76 s\n"
     ]
    }
   ],
   "source": [
    "%%time\n",
    "li = []\n",
    "for faculty in driver.find_elements(by=By.XPATH, value='//div[@class=\"eecs_person_copy\"]'):\n",
    "    \n",
    "    # standard info\n",
    "    relevant_info = {\n",
    "        'name': faculty.find_element(By.XPATH, './/h4').text,\n",
    "        'title': faculty.find_element(By.XPATH, './/span[@class=\"person_title_section\"]').text,\n",
    "        'email': faculty.find_element(By.XPATH, './/a[@class=\"person_email\"]').text,\n",
    "    }\n",
    "    \n",
    "    # optional info - interests\n",
    "    try: val = faculty.find_element(By.XPATH, './/span[@class=\"person_copy_section pcs_tall\"]').text \\\n",
    "        [20:].strip('.').split(', ')\n",
    "    except: val = None\n",
    "    relevant_info['interests'] = val\n",
    "    \n",
    "    # optional info - website\n",
    "    try: val = faculty.find_element(By.XPATH, './/a[@class=\"person_web\"]').get_attribute('href')\n",
    "    except Exception as e: val = None\n",
    "    relevant_info['website'] = val\n",
    "    \n",
    "    # optional info - phone, office\n",
    "    stubs = ['phone', 'office']\n",
    "    for opt_field in faculty.find_elements(By.XPATH, './/span[@class=\"person_copy_section \"]'):\n",
    "        text = opt_field.text\n",
    "        for x in stubs:\n",
    "            if text.startswith(f'{x.title()}: '):\n",
    "                relevant_info[x] = text[len(x) + 2:]\n",
    "    \n",
    "    for x in stubs:\n",
    "        if x not in relevant_info:\n",
    "            relevant_info[x] = None\n",
    "    # print(*relevant_info.items(), sep='\\n')\n",
    "    li.append(relevant_info)\n",
    "    "
   ]
  },
  {
   "cell_type": "code",
   "execution_count": 7,
   "metadata": {},
   "outputs": [],
   "source": [
    "driver.close()"
   ]
  },
  {
   "cell_type": "code",
   "execution_count": 8,
   "metadata": {},
   "outputs": [],
   "source": [
    "df = pd.DataFrame(li)"
   ]
  },
  {
   "cell_type": "code",
   "execution_count": 9,
   "metadata": {},
   "outputs": [
    {
     "data": {
      "text/html": [
       "<div>\n",
       "<style scoped>\n",
       "    .dataframe tbody tr th:only-of-type {\n",
       "        vertical-align: middle;\n",
       "    }\n",
       "\n",
       "    .dataframe tbody tr th {\n",
       "        vertical-align: top;\n",
       "    }\n",
       "\n",
       "    .dataframe thead th {\n",
       "        text-align: right;\n",
       "    }\n",
       "</style>\n",
       "<table border=\"1\" class=\"dataframe\">\n",
       "  <thead>\n",
       "    <tr style=\"text-align: right;\">\n",
       "      <th></th>\n",
       "      <th>name</th>\n",
       "      <th>title</th>\n",
       "      <th>email</th>\n",
       "      <th>interests</th>\n",
       "      <th>website</th>\n",
       "      <th>phone</th>\n",
       "      <th>office</th>\n",
       "    </tr>\n",
       "  </thead>\n",
       "  <tbody>\n",
       "    <tr>\n",
       "      <th>0</th>\n",
       "      <td>Banovic, Nikola</td>\n",
       "      <td>Assistant Professor, Electrical Engineering an...</td>\n",
       "      <td>nbanovic@umich.edu</td>\n",
       "      <td>[Computational Interaction, Human-centered Exp...</td>\n",
       "      <td>http://www.nikolabanovic.net/</td>\n",
       "      <td>734-764-4289</td>\n",
       "      <td>2630 Beyster Bldg.</td>\n",
       "    </tr>\n",
       "    <tr>\n",
       "      <th>1</th>\n",
       "      <td>Baveja, Satinder Singh</td>\n",
       "      <td>Toyota Professor of Artificial Intelligence</td>\n",
       "      <td>baveja@umich.edu</td>\n",
       "      <td>[Reinforcement Learning, Machine Learning, Com...</td>\n",
       "      <td>http://web.eecs.umich.edu/~baveja</td>\n",
       "      <td>(734) 936-2831</td>\n",
       "      <td>3765 Beyster Bldg.</td>\n",
       "    </tr>\n",
       "    <tr>\n",
       "      <th>2</th>\n",
       "      <td>Burdick, Laura</td>\n",
       "      <td>Lecturer III, Electrical Engineering &amp; Compute...</td>\n",
       "      <td>lburdick@umich.edu</td>\n",
       "      <td>[Natural language processing, data science, ma...</td>\n",
       "      <td>None</td>\n",
       "      <td>(734) 936-1312</td>\n",
       "      <td>3824 Beyster</td>\n",
       "    </tr>\n",
       "    <tr>\n",
       "      <th>3</th>\n",
       "      <td>Chai, Joyce</td>\n",
       "      <td>Professor, Electrical Engineering and Computer...</td>\n",
       "      <td>chaijy@umich.edu</td>\n",
       "      <td>[Natural language processing, language groundi...</td>\n",
       "      <td>https://web.eecs.umich.edu/~chaijy/</td>\n",
       "      <td>734-764-3308</td>\n",
       "      <td>3632 Beyster</td>\n",
       "    </tr>\n",
       "    <tr>\n",
       "      <th>4</th>\n",
       "      <td>Chakraborty, Mithun</td>\n",
       "      <td>Assistant Research Scientist, Electrical Engin...</td>\n",
       "      <td>dcsmc@umich.edu</td>\n",
       "      <td>[Multi-Agent Systems, Computational Economics,...</td>\n",
       "      <td>https://sites.google.com/umich.edu/mithunchakra/</td>\n",
       "      <td>None</td>\n",
       "      <td>2709 Beyster Bldg.</td>\n",
       "    </tr>\n",
       "  </tbody>\n",
       "</table>\n",
       "</div>"
      ],
      "text/plain": [
       "                     name                                              title  \\\n",
       "0         Banovic, Nikola  Assistant Professor, Electrical Engineering an...   \n",
       "1  Baveja, Satinder Singh        Toyota Professor of Artificial Intelligence   \n",
       "2          Burdick, Laura  Lecturer III, Electrical Engineering & Compute...   \n",
       "3             Chai, Joyce  Professor, Electrical Engineering and Computer...   \n",
       "4     Chakraborty, Mithun  Assistant Research Scientist, Electrical Engin...   \n",
       "\n",
       "                email                                          interests  \\\n",
       "0  nbanovic@umich.edu  [Computational Interaction, Human-centered Exp...   \n",
       "1    baveja@umich.edu  [Reinforcement Learning, Machine Learning, Com...   \n",
       "2  lburdick@umich.edu  [Natural language processing, data science, ma...   \n",
       "3    chaijy@umich.edu  [Natural language processing, language groundi...   \n",
       "4     dcsmc@umich.edu  [Multi-Agent Systems, Computational Economics,...   \n",
       "\n",
       "                                            website           phone  \\\n",
       "0                     http://www.nikolabanovic.net/    734-764-4289   \n",
       "1                 http://web.eecs.umich.edu/~baveja  (734) 936-2831   \n",
       "2                                              None  (734) 936-1312   \n",
       "3               https://web.eecs.umich.edu/~chaijy/    734-764-3308   \n",
       "4  https://sites.google.com/umich.edu/mithunchakra/            None   \n",
       "\n",
       "               office  \n",
       "0  2630 Beyster Bldg.  \n",
       "1  3765 Beyster Bldg.  \n",
       "2        3824 Beyster  \n",
       "3        3632 Beyster  \n",
       "4  2709 Beyster Bldg.  "
      ]
     },
     "execution_count": 9,
     "metadata": {},
     "output_type": "execute_result"
    }
   ],
   "source": [
    "df.head()"
   ]
  },
  {
   "cell_type": "code",
   "execution_count": 10,
   "metadata": {},
   "outputs": [
    {
     "data": {
      "text/plain": [
       "{'name': 'Banovic, Nikola',\n",
       " 'title': 'Assistant Professor, Electrical Engineering and Computer Science',\n",
       " 'email': 'nbanovic@umich.edu',\n",
       " 'interests': ['Computational Interaction',\n",
       "  'Human-centered Explainable AI',\n",
       "  'Behavior-aware Interfaces'],\n",
       " 'website': 'http://www.nikolabanovic.net/',\n",
       " 'phone': '734-764-4289',\n",
       " 'office': '2630 Beyster Bldg.'}"
      ]
     },
     "execution_count": 10,
     "metadata": {},
     "output_type": "execute_result"
    }
   ],
   "source": [
    "li[0]"
   ]
  },
  {
   "cell_type": "code",
   "execution_count": 11,
   "metadata": {},
   "outputs": [],
   "source": [
    "df.to_csv('data/ai_lab.csv', index=False)"
   ]
  },
  {
   "cell_type": "code",
   "execution_count": 12,
   "metadata": {},
   "outputs": [],
   "source": [
    "# notes:\n",
    "# manually cleaned some \"interest categories\"\n",
    "# Stella Yu, Wei Hu, Justin Johnson, Danai Koutra, Emily Provost"
   ]
  }
 ],
 "metadata": {
  "kernelspec": {
   "display_name": "test_venv",
   "language": "python",
   "name": "python3"
  },
  "language_info": {
   "codemirror_mode": {
    "name": "ipython",
    "version": 3
   },
   "file_extension": ".py",
   "mimetype": "text/x-python",
   "name": "python",
   "nbconvert_exporter": "python",
   "pygments_lexer": "ipython3",
   "version": "3.8.13"
  },
  "orig_nbformat": 4
 },
 "nbformat": 4,
 "nbformat_minor": 2
}
